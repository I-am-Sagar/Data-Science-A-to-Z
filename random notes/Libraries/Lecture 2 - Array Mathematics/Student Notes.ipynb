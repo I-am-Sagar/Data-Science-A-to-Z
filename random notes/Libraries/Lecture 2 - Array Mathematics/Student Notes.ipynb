{
 "cells": [
  {
   "cell_type": "markdown",
   "id": "0edac2d2",
   "metadata": {},
   "source": [
    "## 02 - Array Mathematics\n",
    "\n",
    "Consider this scenario in an Excel sheet. You are given 4 columns, `principal`, `rate_of_interest`, `num_of_years` and `simple_interest` as shown below. \n",
    "\n",
    "| principal | rate_of_interest | num_of_years | simple_interest |\n",
    "| -- | -- | -- | -- |\n",
    "| 12000 | 6 | 3 | |\n",
    "| 18000 | 6.25 | 4 | | \n",
    "| 82000 | 7 | 2 | |\n",
    "| 45000 | 6.75 | 5 | |\n",
    "\n",
    "How would you calculate the `simple_interest` column in this case? Of course, you will multiply the three cells in the first row and then divide it by 100. You will then drag down the formula to the cells below to obtain the result for the remaining cells. Quite Easily Done! \n",
    "\n",
    "But how will you do this in Python? Remember this thumb rule, we represent the columns in the spreadsheet as arrays in Python! So, \n",
    "\n",
    "```py\n",
    "principal = [12000, 18000, 82000, 45000]\n",
    "rate_of_interest = [6, 6.25, 7, 6.75]\n",
    "num_of_years = [3, 4, 2, 5]\n",
    "simple_interest = []\n",
    "\n",
    "# pythonic way of finding simple interest\n",
    "for i in range(0, len(principal)):\n",
    "    si = principal[i]*rate_of_interest[i]*num_of_years[i]/100\n",
    "    simple_interest.append(si)\n",
    "print(simple_interest)\n",
    "```\n",
    "But this is quite tedious! It was so simple to do the same thing in Excel, but in Python - we need loops, lists and what not! Can we improve upon this?? The answer is yes! And for that, we will use numpy. "
   ]
  },
  {
   "cell_type": "markdown",
   "id": "a78018b2",
   "metadata": {},
   "source": [
    "### 02.1 - Element-wise Arithmetic Operations\n",
    "\n",
    "What will happen in Python if we add two lists as shown below?\n",
    "\n",
    "```py\n",
    "a = [1, 2, 3, 4]\n",
    "b = [5, 6, 7, 8]\n",
    "print(a + b)\n",
    "```\n",
    "\n",
    "The output will be `[1, 2, 3, 4, 5, 6, 7, 8]`. Two lists got appended! Moreover, operations like `a - b, a*b and a/b` doesn't make sense! \n",
    "\n",
    "What if I need output as `[6, 8, 10, 12]` which is the element-wise addition? In Python, we will need to write loop for that. However, numpy arrays allow us to do this element-wise operation easily. \n",
    "\n",
    "*Note that:* To perform element-wise operations, you will need two arrays of same shape and size. Otherwise, you will get an error. "
   ]
  },
  {
   "cell_type": "code",
   "execution_count": 1,
   "id": "b3633f48",
   "metadata": {},
   "outputs": [
    {
     "name": "stdout",
     "output_type": "stream",
     "text": [
      "[ 6  8 10 12]\n",
      "[4 4 4 4]\n",
      "[ 5 12 21 32]\n",
      "[5.         3.         2.33333333 2.        ]\n",
      "[    1    64  2187 65536]\n"
     ]
    }
   ],
   "source": [
    "import numpy as np\n",
    "\n",
    "a = np.array([1, 2, 3, 4])\n",
    "b = np.array([5, 6, 7, 8])\n",
    "print(a + b)   # Addition of two arrays\n",
    "print(b - a)   # Subtraction of two arrays\n",
    "print(a*b)     # Multiplication of two arrays\n",
    "print(b/a)     # Division of two arrays\n",
    "print(a**b)    # One array raised to power of another"
   ]
  },
  {
   "cell_type": "markdown",
   "id": "85f0df2f",
   "metadata": {},
   "source": [
    "Once we have the ability to perform this element-wise operation, finding the `simple_interest` becomes easy and a one line instruction."
   ]
  },
  {
   "cell_type": "code",
   "execution_count": 2,
   "id": "14490a06",
   "metadata": {},
   "outputs": [
    {
     "name": "stdout",
     "output_type": "stream",
     "text": [
      "[ 2160.   4500.  11480.  15187.5]\n"
     ]
    }
   ],
   "source": [
    "principal = np.array([12000, 18000, 82000, 45000])\n",
    "rate_of_interest = np.array([6, 6.25, 7, 6.75])\n",
    "num_of_years = np.array([3, 4, 2, 5])\n",
    "\n",
    "simple_interest = principal*rate_of_interest*num_of_years/100\n",
    "print(simple_interest)"
   ]
  },
  {
   "cell_type": "markdown",
   "id": "f319f363",
   "metadata": {},
   "source": [
    "### 02.2 Element-wise Comparison \n",
    "\n",
    "Imagine you have two groups of students: Group A and Group B. Each group has a list of test scores representing the performance of the students. You want to compare the test scores of the two groups to determine which group performed better overall.\n",
    "\n",
    "Using NumPy arrays, you can represent the test scores of Group A and Group B as follows:"
   ]
  },
  {
   "cell_type": "code",
   "execution_count": 3,
   "id": "4f8e14fd",
   "metadata": {},
   "outputs": [],
   "source": [
    "group_a_scores = np.array([85, 92, 78, 90, 88])\n",
    "group_b_scores = np.array([80, 95, 85, 92, 87])"
   ]
  },
  {
   "cell_type": "markdown",
   "id": "164410b0",
   "metadata": {},
   "source": [
    "Now, let's perform some comparisons using NumPy array operations:\n",
    "\n",
    "1. **Single Element Comparison:**\n",
    "\n",
    "Single element comparison allows you to compare corresponding elements of two arrays and returns a new array with the result of each element-wise comparison."
   ]
  },
  {
   "cell_type": "code",
   "execution_count": 4,
   "id": "396705bf",
   "metadata": {},
   "outputs": [
    {
     "name": "stdout",
     "output_type": "stream",
     "text": [
      "[ True False False False  True]\n"
     ]
    }
   ],
   "source": [
    "# Comparing scores element-wise\n",
    "comparison = group_a_scores > group_b_scores\n",
    "print(comparison)"
   ]
  },
  {
   "cell_type": "markdown",
   "id": "4e806b39",
   "metadata": {},
   "source": [
    "In this example, the resulting comparison array indicates True for elements where Group A has a higher score than Group B, and False for elements where Group A has a lower or equal score to Group B.\n",
    "\n",
    "2. **Overall Comparison:**\n",
    "\n",
    "You can use aggregate functions like `np.all()` and `np.any()` to determine if all or any elements of an array meet a specific condition."
   ]
  },
  {
   "cell_type": "code",
   "execution_count": 5,
   "id": "0ea6d95c",
   "metadata": {},
   "outputs": [
    {
     "name": "stdout",
     "output_type": "stream",
     "text": [
      "False\n",
      "True\n"
     ]
    }
   ],
   "source": [
    "# Check if all scores in Group A are greater than Group B\n",
    "all_greater = np.all(group_a_scores > group_b_scores)\n",
    "print(all_greater)\n",
    "\n",
    "# Check if any score in Group A is greater than Group B\n",
    "any_greater = np.any(group_a_scores > group_b_scores)\n",
    "print(any_greater)"
   ]
  },
  {
   "cell_type": "markdown",
   "id": "2e053a9d",
   "metadata": {},
   "source": [
    "In this example, the all_greater variable returns False because not all scores in Group A are greater than Group B. However, the any_greater variable returns True because there is at least one score in Group A that is greater than Group B.\n",
    "\n",
    "Comparing NumPy arrays allows you to analyze and make decisions based on the elements they contain. Just like comparing real-life objects, you can use NumPy array comparison to determine relationships, find patterns, filter data, or make logical decisions in data analysis or scientific computing scenarios."
   ]
  },
  {
   "cell_type": "markdown",
   "id": "d4ea7cfc",
   "metadata": {},
   "source": [
    "### 02.3 Aggregate Functions\n",
    "\n",
    "Aggregate functions in NumPy allow us to perform calculations on arrays, aggregating multiple values into a single result. You have studied these functions in Excel as well.\n",
    "\n",
    "1. **np.sum():**\n",
    "\n",
    "This function calculates the sum of all elements in an array.\n",
    "It can be used to find the total of a set of values or to calculate cumulative sums."
   ]
  },
  {
   "cell_type": "code",
   "execution_count": 6,
   "id": "37def3e3",
   "metadata": {},
   "outputs": [
    {
     "name": "stdout",
     "output_type": "stream",
     "text": [
      "650\n"
     ]
    }
   ],
   "source": [
    "expenses = np.array([100, 150, 200, 75, 125])\n",
    "total_expenses = np.sum(expenses)\n",
    "print(total_expenses)"
   ]
  },
  {
   "cell_type": "markdown",
   "id": "475bef96",
   "metadata": {},
   "source": [
    "2. **np.cumsum():**\n",
    "\n",
    "This function calculates the cumulative sum of elements in an array.\n",
    "It gives the running total of the values as we iterate through the array."
   ]
  },
  {
   "cell_type": "code",
   "execution_count": 7,
   "id": "d3826403",
   "metadata": {},
   "outputs": [
    {
     "name": "stdout",
     "output_type": "stream",
     "text": [
      "[ 50  80 120 140 165]\n"
     ]
    }
   ],
   "source": [
    "sales = np.array([50, 30, 40, 20, 25])\n",
    "cumulative_sales = np.cumsum(sales)\n",
    "print(cumulative_sales)"
   ]
  },
  {
   "cell_type": "markdown",
   "id": "dc811a28",
   "metadata": {},
   "source": [
    "3. **np.min() and np.max():**\n",
    "\n",
    "These functions return the minimum and maximum values from an array, respectively.\n",
    "They are useful for finding the smallest or largest value in a dataset."
   ]
  },
  {
   "cell_type": "code",
   "execution_count": 8,
   "id": "672694e3",
   "metadata": {},
   "outputs": [
    {
     "name": "stdout",
     "output_type": "stream",
     "text": [
      "20 35\n"
     ]
    }
   ],
   "source": [
    "temperatures = np.array([25, 30, 20, 35, 28])\n",
    "min_temp = np.min(temperatures)\n",
    "max_temp = np.max(temperatures)\n",
    "print(min_temp, max_temp)"
   ]
  },
  {
   "cell_type": "markdown",
   "id": "69ddb470",
   "metadata": {},
   "source": [
    "4. **np.mean() and np.median():**\n",
    "\n",
    "np.mean() calculates the arithmetic mean of an array, giving the average value.\n",
    "np.median() returns the median value, which is the middle value when the array is sorted."
   ]
  },
  {
   "cell_type": "code",
   "execution_count": 9,
   "id": "850a3bd0",
   "metadata": {},
   "outputs": [
    {
     "name": "stdout",
     "output_type": "stream",
     "text": [
      "35.0 35.0\n"
     ]
    }
   ],
   "source": [
    "ages = np.array([25, 30, 35, 40, 45])\n",
    "average_age = np.mean(ages)\n",
    "median_age = np.median(ages)\n",
    "print(average_age, median_age)"
   ]
  },
  {
   "cell_type": "markdown",
   "id": "16298ae8",
   "metadata": {},
   "source": [
    "5. **np.std():**\n",
    "\n",
    "This function calculates the standard deviation of an array, which measures the spread or dispersion of the values.\n",
    "It provides a measure of how much the values deviate from the mean."
   ]
  },
  {
   "cell_type": "code",
   "execution_count": 11,
   "id": "1e0463a9",
   "metadata": {},
   "outputs": [
    {
     "name": "stdout",
     "output_type": "stream",
     "text": [
      "7.0710678118654755\n"
     ]
    }
   ],
   "source": [
    "scores = np.array([80, 85, 90, 75, 95])\n",
    "std_dev = np.std(scores)\n",
    "print(std_dev)"
   ]
  },
  {
   "cell_type": "markdown",
   "id": "7da885f3",
   "metadata": {},
   "source": [
    "6. **np.corrcoef():**\n",
    "\n",
    "This function calculates the correlation coefficient between two arrays.\n",
    "It measures the strength and direction of the linear relationship between the two arrays."
   ]
  },
  {
   "cell_type": "code",
   "execution_count": 12,
   "id": "7ba1c6fd",
   "metadata": {},
   "outputs": [
    {
     "name": "stdout",
     "output_type": "stream",
     "text": [
      "[[ 1. -1.]\n",
      " [-1.  1.]]\n"
     ]
    }
   ],
   "source": [
    "x = np.array([1, 2, 3, 4, 5])\n",
    "y = np.array([5, 4, 3, 2, 1])\n",
    "correlation = np.corrcoef(x, y)\n",
    "print(correlation)"
   ]
  },
  {
   "cell_type": "markdown",
   "id": "af71b83b",
   "metadata": {},
   "source": [
    "These aggregate functions provide useful insights and statistical measures for analyzing data. Whether it's finding sums, calculating averages, determining the spread of values, or examining relationships between variables, these functions enable efficient computations on NumPy arrays in real-life scenarios. <hr>"
   ]
  }
 ],
 "metadata": {
  "kernelspec": {
   "display_name": "Python 3 (ipykernel)",
   "language": "python",
   "name": "python3"
  },
  "language_info": {
   "codemirror_mode": {
    "name": "ipython",
    "version": 3
   },
   "file_extension": ".py",
   "mimetype": "text/x-python",
   "name": "python",
   "nbconvert_exporter": "python",
   "pygments_lexer": "ipython3",
   "version": "3.9.6"
  }
 },
 "nbformat": 4,
 "nbformat_minor": 5
}
